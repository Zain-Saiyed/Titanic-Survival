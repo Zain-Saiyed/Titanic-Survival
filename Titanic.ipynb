{
 "cells": [
  {
   "cell_type": "markdown",
   "metadata": {},
   "source": [
    "# Titanic Survival Prediction :"
   ]
  },
  {
   "cell_type": "markdown",
   "metadata": {},
   "source": [
    "## Importing required libraries -\n",
    "\n",
    "Pandas - This library is used to perform functions on dataframe's read from a CSV File.  \n",
    "Numpy - An optimised library for application on arrays.  \n",
    "MatPlotLib - A library that we use to visualise the data.  \n",
    "SkLearn - A library to perform ML operations.  "
   ]
  },
  {
   "cell_type": "code",
   "execution_count": 2,
   "metadata": {},
   "outputs": [],
   "source": [
    "import pandas as pd\n",
    "import numpy as np\n",
    "import matplotlib.pyplot as plt\n",
    "from sklearn.model_selection import train_test_split\n",
    "from sklearn.metrics import accuracy_score, mean_squared_error, mean_absolute_error,f1_score\n",
    "from sklearn.linear_model import LogisticRegression"
   ]
  },
  {
   "cell_type": "markdown",
   "metadata": {},
   "source": [
    "## Read The CSV File"
   ]
  },
  {
   "cell_type": "code",
   "execution_count": 3,
   "metadata": {},
   "outputs": [],
   "source": [
    "raw_dataframe = pd.read_csv(\"train.csv\")"
   ]
  },
  {
   "cell_type": "markdown",
   "metadata": {},
   "source": [
    "## Analyse the first 5 columns of the Data"
   ]
  },
  {
   "cell_type": "code",
   "execution_count": 4,
   "metadata": {
    "scrolled": true
   },
   "outputs": [
    {
     "data": {
      "text/html": [
       "<div>\n",
       "<style scoped>\n",
       "    .dataframe tbody tr th:only-of-type {\n",
       "        vertical-align: middle;\n",
       "    }\n",
       "\n",
       "    .dataframe tbody tr th {\n",
       "        vertical-align: top;\n",
       "    }\n",
       "\n",
       "    .dataframe thead th {\n",
       "        text-align: right;\n",
       "    }\n",
       "</style>\n",
       "<table border=\"1\" class=\"dataframe\">\n",
       "  <thead>\n",
       "    <tr style=\"text-align: right;\">\n",
       "      <th></th>\n",
       "      <th>PassengerId</th>\n",
       "      <th>Survived</th>\n",
       "      <th>Pclass</th>\n",
       "      <th>Name</th>\n",
       "      <th>Sex</th>\n",
       "      <th>Age</th>\n",
       "      <th>SibSp</th>\n",
       "      <th>Parch</th>\n",
       "      <th>Ticket</th>\n",
       "      <th>Fare</th>\n",
       "      <th>Cabin</th>\n",
       "      <th>Embarked</th>\n",
       "    </tr>\n",
       "  </thead>\n",
       "  <tbody>\n",
       "    <tr>\n",
       "      <th>0</th>\n",
       "      <td>1</td>\n",
       "      <td>0</td>\n",
       "      <td>3</td>\n",
       "      <td>Braund, Mr. Owen Harris</td>\n",
       "      <td>male</td>\n",
       "      <td>22.0</td>\n",
       "      <td>1</td>\n",
       "      <td>0</td>\n",
       "      <td>A/5 21171</td>\n",
       "      <td>7.2500</td>\n",
       "      <td>NaN</td>\n",
       "      <td>S</td>\n",
       "    </tr>\n",
       "    <tr>\n",
       "      <th>1</th>\n",
       "      <td>2</td>\n",
       "      <td>1</td>\n",
       "      <td>1</td>\n",
       "      <td>Cumings, Mrs. John Bradley (Florence Briggs Th...</td>\n",
       "      <td>female</td>\n",
       "      <td>38.0</td>\n",
       "      <td>1</td>\n",
       "      <td>0</td>\n",
       "      <td>PC 17599</td>\n",
       "      <td>71.2833</td>\n",
       "      <td>C85</td>\n",
       "      <td>C</td>\n",
       "    </tr>\n",
       "    <tr>\n",
       "      <th>2</th>\n",
       "      <td>3</td>\n",
       "      <td>1</td>\n",
       "      <td>3</td>\n",
       "      <td>Heikkinen, Miss. Laina</td>\n",
       "      <td>female</td>\n",
       "      <td>26.0</td>\n",
       "      <td>0</td>\n",
       "      <td>0</td>\n",
       "      <td>STON/O2. 3101282</td>\n",
       "      <td>7.9250</td>\n",
       "      <td>NaN</td>\n",
       "      <td>S</td>\n",
       "    </tr>\n",
       "    <tr>\n",
       "      <th>3</th>\n",
       "      <td>4</td>\n",
       "      <td>1</td>\n",
       "      <td>1</td>\n",
       "      <td>Futrelle, Mrs. Jacques Heath (Lily May Peel)</td>\n",
       "      <td>female</td>\n",
       "      <td>35.0</td>\n",
       "      <td>1</td>\n",
       "      <td>0</td>\n",
       "      <td>113803</td>\n",
       "      <td>53.1000</td>\n",
       "      <td>C123</td>\n",
       "      <td>S</td>\n",
       "    </tr>\n",
       "    <tr>\n",
       "      <th>4</th>\n",
       "      <td>5</td>\n",
       "      <td>0</td>\n",
       "      <td>3</td>\n",
       "      <td>Allen, Mr. William Henry</td>\n",
       "      <td>male</td>\n",
       "      <td>35.0</td>\n",
       "      <td>0</td>\n",
       "      <td>0</td>\n",
       "      <td>373450</td>\n",
       "      <td>8.0500</td>\n",
       "      <td>NaN</td>\n",
       "      <td>S</td>\n",
       "    </tr>\n",
       "  </tbody>\n",
       "</table>\n",
       "</div>"
      ],
      "text/plain": [
       "   PassengerId  Survived  Pclass  \\\n",
       "0            1         0       3   \n",
       "1            2         1       1   \n",
       "2            3         1       3   \n",
       "3            4         1       1   \n",
       "4            5         0       3   \n",
       "\n",
       "                                                Name     Sex   Age  SibSp  \\\n",
       "0                            Braund, Mr. Owen Harris    male  22.0      1   \n",
       "1  Cumings, Mrs. John Bradley (Florence Briggs Th...  female  38.0      1   \n",
       "2                             Heikkinen, Miss. Laina  female  26.0      0   \n",
       "3       Futrelle, Mrs. Jacques Heath (Lily May Peel)  female  35.0      1   \n",
       "4                           Allen, Mr. William Henry    male  35.0      0   \n",
       "\n",
       "   Parch            Ticket     Fare Cabin Embarked  \n",
       "0      0         A/5 21171   7.2500   NaN        S  \n",
       "1      0          PC 17599  71.2833   C85        C  \n",
       "2      0  STON/O2. 3101282   7.9250   NaN        S  \n",
       "3      0            113803  53.1000  C123        S  \n",
       "4      0            373450   8.0500   NaN        S  "
      ]
     },
     "execution_count": 4,
     "metadata": {},
     "output_type": "execute_result"
    }
   ],
   "source": [
    "raw_dataframe.head()"
   ]
  },
  {
   "cell_type": "markdown",
   "metadata": {},
   "source": [
    "## Study column wise data"
   ]
  },
  {
   "cell_type": "code",
   "execution_count": 5,
   "metadata": {
    "scrolled": true
   },
   "outputs": [
    {
     "name": "stdout",
     "output_type": "stream",
     "text": [
      "<class 'pandas.core.frame.DataFrame'>\n",
      "RangeIndex: 891 entries, 0 to 890\n",
      "Data columns (total 12 columns):\n",
      "PassengerId    891 non-null int64\n",
      "Survived       891 non-null int64\n",
      "Pclass         891 non-null int64\n",
      "Name           891 non-null object\n",
      "Sex            891 non-null object\n",
      "Age            714 non-null float64\n",
      "SibSp          891 non-null int64\n",
      "Parch          891 non-null int64\n",
      "Ticket         891 non-null object\n",
      "Fare           891 non-null float64\n",
      "Cabin          204 non-null object\n",
      "Embarked       889 non-null object\n",
      "dtypes: float64(2), int64(5), object(5)\n",
      "memory usage: 83.6+ KB\n"
     ]
    }
   ],
   "source": [
    "raw_dataframe.info()"
   ]
  },
  {
   "cell_type": "markdown",
   "metadata": {},
   "source": [
    "## Calculate Column wise error data:"
   ]
  },
  {
   "cell_type": "code",
   "execution_count": 6,
   "metadata": {
    "scrolled": true
   },
   "outputs": [
    {
     "name": "stdout",
     "output_type": "stream",
     "text": [
      "Count of NaN data in every column:\n"
     ]
    },
    {
     "data": {
      "text/plain": [
       "PassengerId      0\n",
       "Survived         0\n",
       "Pclass           0\n",
       "Name             0\n",
       "Sex              0\n",
       "Age            177\n",
       "SibSp            0\n",
       "Parch            0\n",
       "Ticket           0\n",
       "Fare             0\n",
       "Cabin          687\n",
       "Embarked         2\n",
       "dtype: int64"
      ]
     },
     "execution_count": 6,
     "metadata": {},
     "output_type": "execute_result"
    }
   ],
   "source": [
    "print(\"Count of NaN data in every column:\")\n",
    "raw_dataframe.isna().sum()"
   ]
  },
  {
   "cell_type": "markdown",
   "metadata": {},
   "source": [
    "## Functions for different features :"
   ]
  },
  {
   "cell_type": "code",
   "execution_count": 7,
   "metadata": {},
   "outputs": [],
   "source": [
    "def initSex(df):\n",
    "    df['Sex'] = df['Sex'].map({'female': 1, 'male': 2}).astype(int)\n",
    "    return df\n",
    "\n",
    "def initEmbarked(df):\n",
    "    df['Embarked'] = df['Embarked'].fillna('S')\n",
    "    df['Embarked'] = df['Embarked'].map({'C': 1, 'S': 2,'Q': 3})\n",
    "    return df\n",
    "\n",
    "def initAge(df):\n",
    "    meanAge = df['Age'].mean()\n",
    "    standardAge = df['Age'].std()\n",
    "    nanAgeCount = df['Age'].isna().sum()\n",
    "    upperLimit = meanAge+standardAge\n",
    "    lowerLimit = meanAge-standardAge\n",
    "    randomiserList = np.random.randint(lowerLimit,upperLimit,nanAgeCount)\n",
    "    df.loc[df['Age'].isnull(), 'Age'] = randomiserList\n",
    "    return df\n",
    "\n",
    "def initCabin(df):\n",
    "    df['CabinFlag'] = df['Cabin'].apply(lambda x: 0 if type(x)==float else 1)\n",
    "    return df\n",
    "\n",
    "def initFeatures(df):\n",
    "    df['AgeClass'] = df.loc[:,'Age']*df.loc[:,'Pclass']\n",
    "    df['SexAge'] = df.loc[:,'Sex']*df.loc[:,'Age']\n",
    "    return df\n",
    "\n",
    "def initFamily(df):\n",
    "    df[\"FamilySize\"] = df[\"SibSp\"]+df[\"Parch\"]+1\n",
    "    return df\n",
    "\n",
    "def initDeck(df):\n",
    "    Deck = {\"A\": 1, \"B\": 2, \"C\": 3, \"D\": 4, \"E\": 5, \"F\": 6, \"G\": 7, \"T\": 8 }\n",
    "    df['Deck'] = df[\"Cabin\"].astype(str).str[0]\n",
    "    df['Deck'] = df['Deck'].map(Deck)\n",
    "    df['Deck'] = df['Deck'].fillna(0)\n",
    "    df['Deck'] = df['Deck'].astype(int)\n",
    "    return df\n",
    "\n",
    "def initTitle(df):\n",
    "    #title_list=['Mrs', 'Mr', 'Master', 'Miss', 'Major', 'Rev','Dr', 'Ms', 'Mlle','Col', 'Capt', 'Mme', 'Countess','Don', 'Jonkheer']\n",
    "    titles = {\"Mr\": 1, \"Mlle\":2, \"Miss\": 2, \"Ms\":2, \"Mme\":3 ,\"Mrs\": 3, \"Master\": 4, \"Rare\": 5}\n",
    "    rare = ['Major', 'Rev','Dr', 'Ms', 'Mlle','Col', 'Capt', 'Mme', 'Countess','Don', 'Jonkheer','Sir','Dona','Lady']    \n",
    "    \n",
    "    df['Title'] = df[\"Name\"].str.extract(' ([A-Za-z]+)\\.', expand=False)\n",
    "    df['Title'] = df['Title'].replace(rare,'Rare')\n",
    "    df['Title'] = df['Title'].map(titles)\n",
    "    return df\n",
    "\n",
    "def dropCols(df):\n",
    "    df = df.drop(\"Name\",axis=1)\n",
    "    df = df.drop(\"Ticket\",axis=1)\n",
    "    df = df.drop(\"Cabin\",axis=1)\n",
    "    df = df.drop(\"SibSp\",axis=1)\n",
    "    return df    \n",
    "    \n",
    "def edit_dataframe(df):\n",
    "    df = initSex(df)\n",
    "    df = initEmbarked(df)\n",
    "    df = initAge(df)\n",
    "    df = initCabin(df)\n",
    "    df = initFeatures(df)\n",
    "    df = initFamily(df)\n",
    "    df = initTitle(df)\n",
    "    df = initDeck(df)\n",
    "    df = dropCols(df)\n",
    "    return df"
   ]
  },
  {
   "cell_type": "markdown",
   "metadata": {},
   "source": [
    "## Creating a new dataframe after making the changes in the features :"
   ]
  },
  {
   "cell_type": "code",
   "execution_count": 8,
   "metadata": {
    "scrolled": true
   },
   "outputs": [],
   "source": [
    "new_dataframe = edit_dataframe(raw_dataframe)"
   ]
  },
  {
   "cell_type": "markdown",
   "metadata": {},
   "source": [
    "## Analyse the new data set :"
   ]
  },
  {
   "cell_type": "code",
   "execution_count": 9,
   "metadata": {
    "scrolled": true
   },
   "outputs": [
    {
     "data": {
      "text/html": [
       "<div>\n",
       "<style scoped>\n",
       "    .dataframe tbody tr th:only-of-type {\n",
       "        vertical-align: middle;\n",
       "    }\n",
       "\n",
       "    .dataframe tbody tr th {\n",
       "        vertical-align: top;\n",
       "    }\n",
       "\n",
       "    .dataframe thead th {\n",
       "        text-align: right;\n",
       "    }\n",
       "</style>\n",
       "<table border=\"1\" class=\"dataframe\">\n",
       "  <thead>\n",
       "    <tr style=\"text-align: right;\">\n",
       "      <th></th>\n",
       "      <th>PassengerId</th>\n",
       "      <th>Survived</th>\n",
       "      <th>Pclass</th>\n",
       "      <th>Sex</th>\n",
       "      <th>Age</th>\n",
       "      <th>Parch</th>\n",
       "      <th>Fare</th>\n",
       "      <th>Embarked</th>\n",
       "      <th>CabinFlag</th>\n",
       "      <th>AgeClass</th>\n",
       "      <th>SexAge</th>\n",
       "      <th>FamilySize</th>\n",
       "      <th>Title</th>\n",
       "      <th>Deck</th>\n",
       "    </tr>\n",
       "  </thead>\n",
       "  <tbody>\n",
       "    <tr>\n",
       "      <th>0</th>\n",
       "      <td>1</td>\n",
       "      <td>0</td>\n",
       "      <td>3</td>\n",
       "      <td>2</td>\n",
       "      <td>22.0</td>\n",
       "      <td>0</td>\n",
       "      <td>7.2500</td>\n",
       "      <td>2</td>\n",
       "      <td>0</td>\n",
       "      <td>66.0</td>\n",
       "      <td>44.0</td>\n",
       "      <td>2</td>\n",
       "      <td>1</td>\n",
       "      <td>0</td>\n",
       "    </tr>\n",
       "    <tr>\n",
       "      <th>1</th>\n",
       "      <td>2</td>\n",
       "      <td>1</td>\n",
       "      <td>1</td>\n",
       "      <td>1</td>\n",
       "      <td>38.0</td>\n",
       "      <td>0</td>\n",
       "      <td>71.2833</td>\n",
       "      <td>1</td>\n",
       "      <td>1</td>\n",
       "      <td>38.0</td>\n",
       "      <td>38.0</td>\n",
       "      <td>2</td>\n",
       "      <td>3</td>\n",
       "      <td>3</td>\n",
       "    </tr>\n",
       "    <tr>\n",
       "      <th>2</th>\n",
       "      <td>3</td>\n",
       "      <td>1</td>\n",
       "      <td>3</td>\n",
       "      <td>1</td>\n",
       "      <td>26.0</td>\n",
       "      <td>0</td>\n",
       "      <td>7.9250</td>\n",
       "      <td>2</td>\n",
       "      <td>0</td>\n",
       "      <td>78.0</td>\n",
       "      <td>26.0</td>\n",
       "      <td>1</td>\n",
       "      <td>2</td>\n",
       "      <td>0</td>\n",
       "    </tr>\n",
       "    <tr>\n",
       "      <th>3</th>\n",
       "      <td>4</td>\n",
       "      <td>1</td>\n",
       "      <td>1</td>\n",
       "      <td>1</td>\n",
       "      <td>35.0</td>\n",
       "      <td>0</td>\n",
       "      <td>53.1000</td>\n",
       "      <td>2</td>\n",
       "      <td>1</td>\n",
       "      <td>35.0</td>\n",
       "      <td>35.0</td>\n",
       "      <td>2</td>\n",
       "      <td>3</td>\n",
       "      <td>3</td>\n",
       "    </tr>\n",
       "    <tr>\n",
       "      <th>4</th>\n",
       "      <td>5</td>\n",
       "      <td>0</td>\n",
       "      <td>3</td>\n",
       "      <td>2</td>\n",
       "      <td>35.0</td>\n",
       "      <td>0</td>\n",
       "      <td>8.0500</td>\n",
       "      <td>2</td>\n",
       "      <td>0</td>\n",
       "      <td>105.0</td>\n",
       "      <td>70.0</td>\n",
       "      <td>1</td>\n",
       "      <td>1</td>\n",
       "      <td>0</td>\n",
       "    </tr>\n",
       "  </tbody>\n",
       "</table>\n",
       "</div>"
      ],
      "text/plain": [
       "   PassengerId  Survived  Pclass  Sex   Age  Parch     Fare  Embarked  \\\n",
       "0            1         0       3    2  22.0      0   7.2500         2   \n",
       "1            2         1       1    1  38.0      0  71.2833         1   \n",
       "2            3         1       3    1  26.0      0   7.9250         2   \n",
       "3            4         1       1    1  35.0      0  53.1000         2   \n",
       "4            5         0       3    2  35.0      0   8.0500         2   \n",
       "\n",
       "   CabinFlag  AgeClass  SexAge  FamilySize  Title  Deck  \n",
       "0          0      66.0    44.0           2      1     0  \n",
       "1          1      38.0    38.0           2      3     3  \n",
       "2          0      78.0    26.0           1      2     0  \n",
       "3          1      35.0    35.0           2      3     3  \n",
       "4          0     105.0    70.0           1      1     0  "
      ]
     },
     "execution_count": 9,
     "metadata": {},
     "output_type": "execute_result"
    }
   ],
   "source": [
    "new_dataframe.head()"
   ]
  },
  {
   "cell_type": "markdown",
   "metadata": {},
   "source": [
    "## Check the new dataset for any corrupted data :"
   ]
  },
  {
   "cell_type": "code",
   "execution_count": 10,
   "metadata": {},
   "outputs": [
    {
     "name": "stdout",
     "output_type": "stream",
     "text": [
      "Count of NaN data in every column:\n"
     ]
    },
    {
     "data": {
      "text/plain": [
       "PassengerId    0\n",
       "Survived       0\n",
       "Pclass         0\n",
       "Sex            0\n",
       "Age            0\n",
       "Parch          0\n",
       "Fare           0\n",
       "Embarked       0\n",
       "CabinFlag      0\n",
       "AgeClass       0\n",
       "SexAge         0\n",
       "FamilySize     0\n",
       "Title          0\n",
       "Deck           0\n",
       "dtype: int64"
      ]
     },
     "execution_count": 10,
     "metadata": {},
     "output_type": "execute_result"
    }
   ],
   "source": [
    "print(\"Count of NaN data in every column:\")\n",
    "new_dataframe.isna().sum()"
   ]
  },
  {
   "cell_type": "markdown",
   "metadata": {},
   "source": [
    "## Visualising function for a dataframe"
   ]
  },
  {
   "cell_type": "code",
   "execution_count": 11,
   "metadata": {},
   "outputs": [],
   "source": [
    "def showData(df):\n",
    "    for i in range(2,len(df.columns)):\n",
    "        Parameters = df.columns[i]\n",
    "        plt.hist(x = [df[df['Survived']==1][Parameters], df[df['Survived']==0][Parameters]], label = ['Survived','Dead'])\n",
    "        plt.title('Survival')\n",
    "        plt.xlabel(Parameters)\n",
    "        plt.ylabel('Number of Passengers')\n",
    "        plt.legend()\n",
    "        plt.show()"
   ]
  },
  {
   "cell_type": "markdown",
   "metadata": {},
   "source": [
    "## Visualising the new dataframe :"
   ]
  },
  {
   "cell_type": "code",
   "execution_count": 12,
   "metadata": {
    "scrolled": true
   },
   "outputs": [
    {
     "data": {
      "image/png": "[encoded data removed]",
      "text/plain": [
       "<Figure size 432x288 with 1 Axes>"
      ]
     },
     "metadata": {},
     "output_type": "display_data"
    },
    {
     "data": {
      "image/png": "[encoded data removed]",
      "text/plain": [
       "<Figure size 432x288 with 1 Axes>"
      ]
     },
     "metadata": {},
     "output_type": "display_data"
    },
    {
     "data": {
      "image/png": "[encoded data removed]",
      "text/plain": [
       "<Figure size 432x288 with 1 Axes>"
      ]
     },
     "metadata": {},
     "output_type": "display_data"
    },
    {
     "data": {
      "image/png": "[encoded data removed]",
      "text/plain": [
       "<Figure size 432x288 with 1 Axes>"
      ]
     },
     "metadata": {},
     "output_type": "display_data"
    },
    {
     "data": {
      "image/png": "[encoded data removed]",
      "text/plain": [
       "<Figure size 432x288 with 1 Axes>"
      ]
     },
     "metadata": {},
     "output_type": "display_data"
    },
    {
     "data": {
      "image/png": "[encoded data removed]",
      "text/plain": [
       "<Figure size 432x288 with 1 Axes>"
      ]
     },
     "metadata": {},
     "output_type": "display_data"
    },
    {
     "data": {
      "image/png": "[encoded data removed]",
      "text/plain": [
       "<Figure size 432x288 with 1 Axes>"
      ]
     },
     "metadata": {},
     "output_type": "display_data"
    },
    {
     "data": {
      "image/png": "[encoded data removed]",
      "text/plain": [
       "<Figure size 432x288 with 1 Axes>"
      ]
     },
     "metadata": {},
     "output_type": "display_data"
    },
    {
     "data": {
      "image/png": "[encoded data removed]",
      "text/plain": [
       "<Figure size 432x288 with 1 Axes>"
      ]
     },
     "metadata": {},
     "output_type": "display_data"
    },
    {
     "data": {
      "image/png": "[encoded data removed]",
      "text/plain": [
       "<Figure size 432x288 with 1 Axes>"
      ]
     },
     "metadata": {},
     "output_type": "display_data"
    },
    {
     "data": {
      "image/png": "[encoded data removed]",
      "text/plain": [
       "<Figure size 432x288 with 1 Axes>"
      ]
     },
     "metadata": {},
     "output_type": "display_data"
    },
    {
     "data": {
      "image/png": "[encoded data removed]",
      "text/plain": [
       "<Figure size 432x288 with 1 Axes>"
      ]
     },
     "metadata": {},
     "output_type": "display_data"
    }
   ],
   "source": [
    "showData(new_dataframe)"
   ]
  },
  {
   "cell_type": "markdown",
   "metadata": {},
   "source": [
    "## Making a train-test-split of the data :"
   ]
  },
  {
   "cell_type": "code",
   "execution_count": 13,
   "metadata": {
    "scrolled": true
   },
   "outputs": [],
   "source": [
    "train_x, test_x, train_y, test_y = train_test_split(\n",
    "    new_dataframe.loc[:, ('PassengerId','Pclass','Sex','Age','Parch','Embarked','CabinFlag','AgeClass','SexAge','FamilySize','Title')], new_dataframe.loc[:, ('Survived')], test_size=0.2, random_state=6)"
   ]
  },
  {
   "cell_type": "code",
   "execution_count": 14,
   "metadata": {},
   "outputs": [
    {
     "name": "stdout",
     "output_type": "stream",
     "text": [
      "Size:\n",
      "X Train =  (712, 11) \n",
      "Y Train =  (712,) \n",
      "X Test =  (179, 11) \n",
      "Y Test =  (179,)\n"
     ]
    }
   ],
   "source": [
    "print(\"Size:\\nX Train = \",train_x.shape,\"\\nY Train = \",train_y.shape,\"\\nX Test = \",test_x.shape,\"\\nY Test = \",test_y.shape)"
   ]
  },
  {
   "cell_type": "markdown",
   "metadata": {},
   "source": [
    "## Fiting the Logistic Regression Model :"
   ]
  },
  {
   "cell_type": "code",
   "execution_count": 15,
   "metadata": {},
   "outputs": [
    {
     "name": "stdout",
     "output_type": "stream",
     "text": [
      "Test Accuracy for Logistic Regression:  0.8715083798882681\n",
      "Test Accuracy for Logistic Regression(RMS):  0.12849162011173185\n",
      "Test Accuracy for Logistic Regression(MAE):  0.12849162011173185\n",
      "F1 - Score :  0.8692679447892778\n"
     ]
    }
   ],
   "source": [
    "logisticRegression = LogisticRegression()\n",
    "logisticRegression.fit(train_x, train_y)\n",
    "predictions = logisticRegression.predict(test_x)\n",
    "accuracyLogistic = accuracy_score(test_y, predictions)\n",
    "mseLR = mean_squared_error(test_y,predictions)\n",
    "maeLR = mean_absolute_error (test_y,predictions)\n",
    "F1LR = f1_score(test_y,predictions,average='weighted')\n",
    "\n",
    "print('Test Accuracy for Logistic Regression: ', accuracyLogistic)\n",
    "print('Test Accuracy for Logistic Regression(RMS): ', mseLR)\n",
    "print(\"Test Accuracy for Logistic Regression(MAE): \", maeLR)\n",
    "print(\"F1 - Score : \", F1LR )"
   ]
  },
  {
   "cell_type": "markdown",
   "metadata": {},
   "source": [
    "# Training on different Classifiers:\n",
    "### Importing the classifiers from sklearn -"
   ]
  },
  {
   "cell_type": "code",
   "execution_count": 16,
   "metadata": {},
   "outputs": [],
   "source": [
    "#Decision Tree\n",
    "from sklearn.tree import DecisionTreeClassifier\n",
    "# KNN\n",
    "from sklearn.neighbors import KNeighborsClassifier\n",
    "# Linear Regression\n",
    "from sklearn.linear_model import LinearRegression\n",
    "# Support Vector Machines\n",
    "from sklearn import svm"
   ]
  },
  {
   "cell_type": "markdown",
   "metadata": {},
   "source": [
    "## Linear Regression Classifier: "
   ]
  },
  {
   "cell_type": "code",
   "execution_count": 17,
   "metadata": {},
   "outputs": [
    {
     "name": "stdout",
     "output_type": "stream",
     "text": [
      "Mean Absolute Error :  0.2674518616916762\n",
      "Mean Squared Error : 0.12740194331177124\n"
     ]
    }
   ],
   "source": [
    "LRegression = LinearRegression()\n",
    "#Training the model\n",
    "LRegression.fit(train_x,train_y)\n",
    "#Predicting using the learnt classifier\n",
    "LRPredictions = LRegression.predict(test_x)\n",
    "#Accuracy Scores : \n",
    "LINmae = mean_absolute_error (test_y,LRPredictions)\n",
    "LINmse = mean_squared_error(test_y,LRPredictions)\n",
    "print(\"Mean Absolute Error : \", LINmae)\n",
    "print(\"Mean Squared Error :\", LINmse )"
   ]
  },
  {
   "cell_type": "markdown",
   "metadata": {},
   "source": [
    "## K-NN Classifier: "
   ]
  },
  {
   "cell_type": "code",
   "execution_count": 18,
   "metadata": {},
   "outputs": [
    {
     "name": "stdout",
     "output_type": "stream",
     "text": [
      "K =  3\n",
      "Test Accuracy for KNN classifier:  0.7653631284916201\n",
      "Test Accuracy for KNN (RMS):  0.2346368715083799\n",
      "Test Accuracy for KNN (MAE):  0.2346368715083799\n",
      "F1 - Score :  0.7607179834249426\n"
     ]
    }
   ],
   "source": [
    "score=[]\n",
    "# Calculating the best accuracy score for each N-neighbors\n",
    "for k in range(1,16):\n",
    "    KNN = KNeighborsClassifier(n_neighbors=k, weights='distance') \n",
    "    #training the model\n",
    "    KNN.fit(train_x, train_y)\n",
    "    #predict using the learnt classifier\n",
    "    Kprediction = KNN.predict(test_x) \n",
    "    #Accuracy Score :\n",
    "    accuracyKNN = accuracy_score(test_y, Kprediction)\n",
    "    score.append(accuracyKNN)\n",
    "\n",
    "# Selecting the k with best accuracy score\n",
    "k = (score.index(max(score)))+1\n",
    "print(\"K = \",k)\n",
    "# Training the model on this k\n",
    "KNN = KNeighborsClassifier(n_neighbors=k, weights='distance') \n",
    "#training the model\n",
    "KNN.fit(train_x, train_y)\n",
    "#predict using the learnt classifier\n",
    "Kprediction = KNN.predict(test_x) \n",
    "#Accuracy Scores :\n",
    "F1KNN = f1_score(test_y,Kprediction,average='weighted')\n",
    "accuracyKNN = accuracy_score(test_y, Kprediction)\n",
    "mseKNN = mean_squared_error(test_y,Kprediction)\n",
    "maeKNN = mean_absolute_error (test_y,Kprediction)\n",
    "print('Test Accuracy for KNN classifier: ', accuracyKNN)\n",
    "print('Test Accuracy for KNN (RMS): ', mseKNN)\n",
    "print(\"Test Accuracy for KNN (MAE): \", maeKNN)\n",
    "print(\"F1 - Score : \", F1KNN )"
   ]
  },
  {
   "cell_type": "markdown",
   "metadata": {},
   "source": [
    "## Support Vector Machine :"
   ]
  },
  {
   "cell_type": "code",
   "execution_count": 19,
   "metadata": {},
   "outputs": [
    {
     "name": "stdout",
     "output_type": "stream",
     "text": [
      "Test Accuracy for SVM [kernal :\" linear \"] classifier:  0.8491620111731844\n",
      "Test Accuracy for SVM(RMS):  0.15083798882681565\n",
      "Test Accuracy for SVM (MAE):  0.15083798882681565\n",
      "F1 - Score :  0.784\n"
     ]
    }
   ],
   "source": [
    "# Selecting linear kernal type \n",
    "ktype=\"linear\"\n",
    "SVM_cls = svm.SVC(kernel = ktype)\n",
    "# Train the Clssifier on the training set\n",
    "SVM_cls.fit(train_x, train_y)\n",
    "# Predicting using the learnt classifier\n",
    "svmPrediction = SVM_cls.predict(test_x)\n",
    "# Accuracy scores claculations :\n",
    "accuracysvm = accuracy_score(test_y, svmPrediction)\n",
    "mseSVM = mean_squared_error(test_y,svmPrediction)\n",
    "maeSVM = mean_absolute_error (test_y,svmPrediction)\n",
    "F1SVM =  f1_score(test_y,svmPrediction,average='binary')\n",
    "\n",
    "print('Test Accuracy for SVM [kernal :\"',ktype,'\"] classifier: ',accuracysvm )\n",
    "print('Test Accuracy for SVM(RMS): ', mseSVM )\n",
    "print('Test Accuracy for SVM (MAE): ', maeSVM )    \n",
    "print(\"F1 - Score : \", F1SVM)"
   ]
  },
  {
   "cell_type": "markdown",
   "metadata": {},
   "source": [
    "## Decision Tree Classifier :"
   ]
  },
  {
   "cell_type": "code",
   "execution_count": 20,
   "metadata": {},
   "outputs": [
    {
     "name": "stdout",
     "output_type": "stream",
     "text": [
      "Test Accuracy for Decision Tree classifier:  0.8435754189944135\n",
      "Test Accuracy for Decision Tree (RMS):  0.1564245810055866\n",
      "Test Accuracy for Decision Tree (MAE):  0.1564245810055866\n",
      "F1 - Score :  0.8388583783101347\n"
     ]
    }
   ],
   "source": [
    "DTree = DecisionTreeClassifier(criterion=\"entropy\", max_depth =6)\n",
    "# Train the Clssifier on the training set\n",
    "DTree.fit(train_x,train_y)\n",
    "# Predicting using the learnt classifier\n",
    "DTreePredictions = DTree.predict(test_x)\n",
    "# Accuracy scores claculations :\n",
    "accuracyDT = accuracy_score(test_y, DTreePredictions)\n",
    "DTmse = mean_squared_error(test_y,DTreePredictions)\n",
    "DTmae = mean_absolute_error (test_y,DTreePredictions)\n",
    "F1DT =  f1_score(test_y,DTreePredictions,average='weighted')\n",
    "\n",
    "print(\"Test Accuracy for Decision Tree classifier: \", accuracyDT)\n",
    "print(\"Test Accuracy for Decision Tree (RMS): \",DTmse )\n",
    "print(\"Test Accuracy for Decision Tree (MAE): \", DTmae)\n",
    "print(\"F1 - Score : \", F1DT)"
   ]
  },
  {
   "cell_type": "markdown",
   "metadata": {},
   "source": [
    "# REPORT :"
   ]
  },
  {
   "cell_type": "code",
   "execution_count": 21,
   "metadata": {},
   "outputs": [
    {
     "data": {
      "text/html": [
       "<div>\n",
       "<style scoped>\n",
       "    .dataframe tbody tr th:only-of-type {\n",
       "        vertical-align: middle;\n",
       "    }\n",
       "\n",
       "    .dataframe tbody tr th {\n",
       "        vertical-align: top;\n",
       "    }\n",
       "\n",
       "    .dataframe thead th {\n",
       "        text-align: right;\n",
       "    }\n",
       "</style>\n",
       "<table border=\"1\" class=\"dataframe\">\n",
       "  <thead>\n",
       "    <tr style=\"text-align: right;\">\n",
       "      <th></th>\n",
       "      <th>Accuracy Score</th>\n",
       "      <th>F1-Score</th>\n",
       "      <th>Mean Square Error</th>\n",
       "      <th>Mean Absolute Error</th>\n",
       "    </tr>\n",
       "  </thead>\n",
       "  <tbody>\n",
       "    <tr>\n",
       "      <th>Logistic Regression</th>\n",
       "      <td>0.8692679447892778</td>\n",
       "      <td>0.8715083798882681</td>\n",
       "      <td>0.12849162011173185</td>\n",
       "      <td>0.12849162011173185</td>\n",
       "    </tr>\n",
       "    <tr>\n",
       "      <th>Linear Regression</th>\n",
       "      <td>N/A</td>\n",
       "      <td>N/A</td>\n",
       "      <td>0.12740194331177124</td>\n",
       "      <td>0.2674518616916762</td>\n",
       "    </tr>\n",
       "    <tr>\n",
       "      <th>KNN</th>\n",
       "      <td>0.7653631284916201</td>\n",
       "      <td>0.7607179834249426</td>\n",
       "      <td>0.2346368715083799</td>\n",
       "      <td>0.2346368715083799</td>\n",
       "    </tr>\n",
       "    <tr>\n",
       "      <th>SVM</th>\n",
       "      <td>0.8491620111731844</td>\n",
       "      <td>0.784</td>\n",
       "      <td>0.15083798882681565</td>\n",
       "      <td>0.15083798882681565</td>\n",
       "    </tr>\n",
       "    <tr>\n",
       "      <th>Decision Tree</th>\n",
       "      <td>0.8435754189944135</td>\n",
       "      <td>0.8388583783101347</td>\n",
       "      <td>0.1564245810055866</td>\n",
       "      <td>0.1564245810055866</td>\n",
       "    </tr>\n",
       "  </tbody>\n",
       "</table>\n",
       "</div>"
      ],
      "text/plain": [
       "                         Accuracy Score            F1-Score  \\\n",
       "Logistic Regression  0.8692679447892778  0.8715083798882681   \n",
       "Linear Regression                   N/A                 N/A   \n",
       "KNN                  0.7653631284916201  0.7607179834249426   \n",
       "SVM                  0.8491620111731844               0.784   \n",
       "Decision Tree        0.8435754189944135  0.8388583783101347   \n",
       "\n",
       "                       Mean Square Error  Mean Absolute Error  \n",
       "Logistic Regression  0.12849162011173185  0.12849162011173185  \n",
       "Linear Regression    0.12740194331177124   0.2674518616916762  \n",
       "KNN                   0.2346368715083799   0.2346368715083799  \n",
       "SVM                  0.15083798882681565  0.15083798882681565  \n",
       "Decision Tree         0.1564245810055866   0.1564245810055866  "
      ]
     },
     "execution_count": 21,
     "metadata": {},
     "output_type": "execute_result"
    }
   ],
   "source": [
    "data_report = np.array([['Algorithm','Accuracy Score','F1-Score','Mean Square Error','Mean Absolute Error'],['Logistic Regression',F1LR,accuracyLogistic,mseLR,maeLR],['Linear Regression','N/A','N/A',LINmse,LINmae ],['KNN',accuracyKNN ,F1KNN,mseKNN,maeKNN],['SVM',accuracysvm ,F1SVM,mseSVM,maeSVM],['Decision Tree',accuracyDT ,F1DT,DTmse,DTmae]])\n",
    "\n",
    "df_report = pd.DataFrame(data = data_report[1:,1:], index = data_report[1:,0],columns = data_report[0,1:])\n",
    "df_report"
   ]
  },
  {
   "cell_type": "markdown",
   "metadata": {},
   "source": [
    "###### Thank you!"
   ]
  }
 ],
 "metadata": {
  "kernelspec": {
   "display_name": "Python 3",
   "language": "python",
   "name": "python3"
  },
  "language_info": {
   "codemirror_mode": {
    "name": "ipython",
    "version": 3
   },
   "file_extension": ".py",
   "mimetype": "text/x-python",
   "name": "python",
   "nbconvert_exporter": "python",
   "pygments_lexer": "ipython3",
   "version": "3.6.5"
  }
 },
 "nbformat": 4,
 "nbformat_minor": 2
}
